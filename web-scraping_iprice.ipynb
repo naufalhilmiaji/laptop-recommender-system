{
 "cells": [
  {
   "cell_type": "markdown",
   "metadata": {},
   "source": [
    "# Python Web Scraping - IPrice Indonesia\n",
    "\n",
    "This project provides the laptop specifications from [iprice.co.id](https://iprice.co.id/) using ```BeautifulSoup4``` and ```Selenium```.\n",
    "\n",
    "By: __Naufal Hilmiaji__"
   ]
  },
  {
   "cell_type": "code",
   "execution_count": 8,
   "metadata": {},
   "outputs": [],
   "source": [
    "from bs4 import BeautifulSoup as bs\n",
    "from selenium import webdriver\n",
    "\n",
    "import pandas as pd\n",
    "import numpy as np\n",
    "import requests\n",
    "import re\n",
    "import math"
   ]
  },
  {
   "cell_type": "markdown",
   "metadata": {},
   "source": [
    "Prevent Selenium to open new chrome window."
   ]
  },
  {
   "cell_type": "code",
   "execution_count": 2,
   "metadata": {},
   "outputs": [],
   "source": [
    "from selenium.webdriver.chrome.options import Options\n",
    "\n",
    "options = Options()\n",
    "options.add_argument('headless')"
   ]
  },
  {
   "cell_type": "code",
   "execution_count": 3,
   "metadata": {},
   "outputs": [],
   "source": [
    "from fake_useragent import UserAgent"
   ]
  },
  {
   "cell_type": "code",
   "execution_count": 46,
   "metadata": {},
   "outputs": [
    {
     "name": "stderr",
     "output_type": "stream",
     "text": [
      "C:\\Users\\cilac\\AppData\\Local\\Temp/ipykernel_23068/622151259.py:9: DeprecationWarning: executable_path has been deprecated, please pass in a Service object\n",
      "  driver = webdriver.Chrome(\n"
     ]
    },
    {
     "name": "stdout",
     "output_type": "stream",
     "text": [
      "10 10\n"
     ]
    }
   ],
   "source": [
    "url = 'https://iprice.co.id/msi/komputer/laptop/?sort=date_desc&page=1&so=7'\n",
    "brands = ['acer','asus','hp','lenovo','dell','msi','samsung']\n",
    "\n",
    "links = []\n",
    "\n",
    "ua = UserAgent()\n",
    "user_agents = ua.random\n",
    "options.add_argument(f'user-agent={user_agents}')\n",
    "driver = webdriver.Chrome(\n",
    "    \"C:/Users/cilac/OneDrive/Documents/chromedriver.exe\", options=options)\n",
    "driver.get(url)\n",
    "soup = bs(driver.page_source, 'lxml')\n",
    "amounts = soup.find('div', class_ = 'mN tr bl pc u b2 dn eQ nt mO eq n0').span.get_text().replace(',', '')\n",
    "div_links = soup.find_all('a', class_ = 'cN eK ei k6 um bk kF dp un er k-')\n",
    "span_brand = soup.find_all('span', class_ = 'truncate-2 db webkit-box-ns oz kH oV gE g ht b uD')\n",
    "\n",
    "print(len(div_links), len(span_brand))\n",
    "\n",
    "# for i in range(60):\n",
    "#     links.append((span_brand[i].get_text(), div_links[i]['href']))\n",
    "\n",
    "# print(links)"
   ]
  },
  {
   "cell_type": "markdown",
   "metadata": {},
   "source": [
    "link_1: class_ = 'cN eK ei k6 um bk kF dp un er k-' \\\n",
    "link_2: class_ = 'cN qt kR lQ oT ki eZ c oz ra hA kF uc kL bc nb2'\n",
    "\n",
    "brand_1: class_ = 'truncate-2 db webkit-box-ns oz kH oV gE g ht b uD' \\\n",
    "brand_2: class_ = 'truncate-2 db kM ra l3 dbox hs g ht b'"
   ]
  },
  {
   "cell_type": "code",
   "execution_count": 44,
   "metadata": {},
   "outputs": [
    {
     "data": {
      "text/plain": [
       "50"
      ]
     },
     "execution_count": 44,
     "metadata": {},
     "output_type": "execute_result"
    }
   ],
   "source": [
    "len(links)"
   ]
  },
  {
   "cell_type": "code",
   "execution_count": 61,
   "metadata": {},
   "outputs": [],
   "source": [
    "laptops = pd.DataFrame(columns = ['brand', 'types', 'links'])\n",
    "def get_soup(url):\n",
    "    ua = UserAgent()\n",
    "    user_agents = ua.random\n",
    "    options.add_argument(f'user-agent={user_agents}')\n",
    "    driver = webdriver.Chrome(\n",
    "        \"C:/Users/cilac/OneDrive/Documents/chromedriver.exe\", options=options)\n",
    "    driver.get(url)\n",
    "    soup = bs(driver.page_source, 'lxml')\n",
    "    return soup\n",
    "\n",
    "def get_page_amounts(soup):\n",
    "    div = soup.find('div', class_ = 'mN tr bl pc u b2 dn eQ nt mO eq n0').span.get_text().replace(',', '')\n",
    "    amounts = math.ceil(int(div)/60)\n",
    "    return amounts\n",
    "\n",
    "def get_type_and_links(df, soup, brand):\n",
    "\n",
    "    promo_link = soup.find_all('a', class_ = 'cN eK ei k6 um bk kF dp un er k-')\n",
    "    regular_link = soup.find_all('a', class_ = 'cN qt kR lQ oT ki eZ c oz ra hA kF uc kL bc nb2')\n",
    "\n",
    "    promo_type = soup.find_all('span', class_ = 'truncate-2 db webkit-box-ns oz kH oV gE g ht b uD')\n",
    "    regular_type = soup.find_all('span', class_ = 'truncate-2 db kM ra l3 dbox hs g ht b')\n",
    "\n",
    "    if promo_link and promo_type:\n",
    "        for i in range(len(promo_link)):\n",
    "            data = {\n",
    "                'brand': brand,\n",
    "                'types': promo_type[i].get_text(),\n",
    "                'links': promo_link[i]['href']\n",
    "            }\n",
    "            # df.append(data,ignore_index=True)\n",
    "            # return df\n",
    "            print(data)\n",
    "    else:\n",
    "        for i in range(len(regular_link)):\n",
    "            data = {\n",
    "                'brand': brand,\n",
    "                'types': regular_type[i].get_text(),\n",
    "                'links': regular_link[i]['href']\n",
    "            }\n",
    "            # df.append(data,ignore_index=True)\n",
    "            # return df\n",
    "            print(data)"
   ]
  },
  {
   "cell_type": "code",
   "execution_count": 62,
   "metadata": {},
   "outputs": [
    {
     "name": "stderr",
     "output_type": "stream",
     "text": [
      "C:\\Users\\cilac\\AppData\\Local\\Temp/ipykernel_23068/4240761836.py:6: DeprecationWarning: executable_path has been deprecated, please pass in a Service object\n",
      "  driver = webdriver.Chrome(\n"
     ]
    },
    {
     "name": "stdout",
     "output_type": "stream",
     "text": [
      "{'brand': 'acer', 'types': ' ASUS Vivobook Pro 14X OLED ', 'links': '/r/pc/?_id=f22b01bdcb3374816efaf33e490f4b60edc67974&position=1&sub_product=discovery-brand-category&_exit=%2Fasus%2Fkomputer%2Flaptop%2F'}\n",
      "{'brand': 'acer', 'types': ' ASUS Vivobook Pro 15 OLED ', 'links': '/r/pc/?_id=01625ba8902d2a90cd8dbf6fe37905d0e42c3e82&position=2&sub_product=discovery-brand-category&_exit=%2Fasus%2Fkomputer%2Flaptop%2F'}\n",
      "{'brand': 'acer', 'types': ' ASUS Expertbook B1 B1400 ', 'links': '/r/pc/?_id=1c48ee4bbfaa74f58941f0908da0e34ac5ddd011&position=3&sub_product=discovery-brand-category&_exit=%2Fasus%2Fkomputer%2Flaptop%2F'}\n",
      "{'brand': 'acer', 'types': ' ASUS Laptop 15 A516 ', 'links': '/r/pc/?_id=eb21844c9a066acbd12db30d7f5d6ec2b1ef0af8&position=4&sub_product=discovery-brand-category&_exit=%2Fasus%2Fkomputer%2Flaptop%2F'}\n",
      "{'brand': 'acer', 'types': ' ASUS Expertbook B9 B9400 ', 'links': '/r/pc/?_id=68f37a9afc066c1cfc606aaa779152450a70cf96&position=5&sub_product=discovery-brand-category&_exit=%2Fasus%2Fkomputer%2Flaptop%2F'}\n",
      "{'brand': 'acer', 'types': ' ASUS BR1100F ', 'links': '/r/pc/?_id=7a2f84f5f2016a45fd3025f58533a67acd14496d&position=6&sub_product=discovery-brand-category&_exit=%2Fasus%2Fkomputer%2Flaptop%2F'}\n",
      "{'brand': 'acer', 'types': ' ASUS ZenBook 13 OLED ', 'links': '/r/pc/?_id=db18ee3403d1c5d91273f45da70b33a56aaa32be&position=7&sub_product=discovery-brand-category&_exit=%2Fasus%2Fkomputer%2Flaptop%2F'}\n",
      "{'brand': 'acer', 'types': ' ASUS Chromebook Flip C214 ', 'links': '/r/pc/?_id=cf374d28b9acf2ddd692a78ac180ab35cfcd43a6&position=8&sub_product=discovery-brand-category&_exit=%2Fasus%2Fkomputer%2Flaptop%2F'}\n",
      "{'brand': 'acer', 'types': ' ASUS VivoBook Ultra 14 ', 'links': '/r/pc/?_id=fec5875da7086677da95c5e07b8c3e978da20c27&position=9&sub_product=discovery-brand-category&_exit=%2Fasus%2Fkomputer%2Flaptop%2F'}\n",
      "{'brand': 'acer', 'types': ' ASUS ROG Zephyrus G14 GA401 ', 'links': '/r/pc/?_id=f5f3ab59f7e509d330d6cb772ef8206aa45f243a&position=10&sub_product=discovery-brand-category&_exit=%2Fasus%2Fkomputer%2Flaptop%2F'}\n",
      "{'brand': 'acer', 'types': ' ASUS TUF Gaming F15 ', 'links': '/r/pc/?_id=df76966312019d6f63061e5a8a699882ab12798f&position=11&sub_product=discovery-brand-category&_exit=%2Fasus%2Fkomputer%2Flaptop%2F'}\n",
      "{'brand': 'acer', 'types': ' ASUS ROG Zephyrus G14 GA401 AMD Ryzen 7 ', 'links': '/r/pc/?_id=f5f3ab59f7e509d330d6cb772ef8206aa45f243a&position=12&sub_product=discovery-brand-category&_exit=%2Fasus%2Fkomputer%2Flaptop%2F'}\n",
      "{'brand': 'acer', 'types': ' ASUS ROG Zephyrus G14 GA401 AMD Ryzen 9 ', 'links': '/r/pc/?_id=18b32ebcd07b486ab8141a8ab89dc0ba25cceb05&position=13&sub_product=discovery-brand-category&_exit=%2Fasus%2Fkomputer%2Flaptop%2F'}\n",
      "{'brand': 'acer', 'types': ' ASUS TUF Gaming F15 Intel Core i7 ', 'links': '/r/pc/?_id=3d981b25e8fbd5c2448a2ce9d49554d2a303bb03&position=14&sub_product=discovery-brand-category&_exit=%2Fasus%2Fkomputer%2Flaptop%2F'}\n",
      "{'brand': 'acer', 'types': ' ASUS M415 Laptop ', 'links': '/r/pc/?_id=9cfe328cf409d6a28f9540c864148291fc8a3ad8&position=15&sub_product=discovery-brand-category&_exit=%2Fasus%2Fkomputer%2Flaptop%2F'}\n",
      "{'brand': 'acer', 'types': ' ASUS TUF Gaming F15 Intel Core i5 ', 'links': '/r/pc/?_id=df76966312019d6f63061e5a8a699882ab12798f&position=16&sub_product=discovery-brand-category&_exit=%2Fasus%2Fkomputer%2Flaptop%2F'}\n",
      "{'brand': 'acer', 'types': ' ASUS ROG Zephyrus G14 2021 ', 'links': '/r/pc/?_id=6e11fdfbdaae5f02eecc997d6a5891fc9cacb4a6&position=17&sub_product=discovery-brand-category&_exit=%2Fasus%2Fkomputer%2Flaptop%2F'}\n",
      "{'brand': 'acer', 'types': ' ASUS TUF Dash F15 ', 'links': '/r/pc/?_id=a473446b44a35b7ed98f66d51c595bbff2ef2423&position=18&sub_product=discovery-brand-category&_exit=%2Fasus%2Fkomputer%2Flaptop%2F'}\n",
      "{'brand': 'acer', 'types': ' ASUS TUF Dash F15 512GB Moonlight White ', 'links': '/r/pc/?_id=7da0056b11c1fe3e591dc792f6aeaa896154a74e&position=19&sub_product=discovery-brand-category&_exit=%2Fasus%2Fkomputer%2Flaptop%2F'}\n",
      "{'brand': 'acer', 'types': ' ASUS TUF Dash F15 512GB Eclipse Grey ', 'links': '/r/pc/?_id=7fa517d46c12787ac6eb946db5e4dbdd393667c2&position=20&sub_product=discovery-brand-category&_exit=%2Fasus%2Fkomputer%2Flaptop%2F'}\n",
      "{'brand': 'acer', 'types': ' ASUS TUF Dash F15 1TB Eclipse Grey ', 'links': '/r/pc/?_id=bc3ac6fc0e8cba16bdaaac22b526a7a90a691a56&position=21&sub_product=discovery-brand-category&_exit=%2Fasus%2Fkomputer%2Flaptop%2F'}\n",
      "{'brand': 'acer', 'types': ' ASUS ZenBook Flip 13 Intel Core i7 1TB 16GB ', 'links': '/r/pc/?_id=d839c07b85a2453e8a960a7d0cc06e6a51a8e3c6&position=22&sub_product=discovery-brand-category&_exit=%2Fasus%2Fkomputer%2Flaptop%2F'}\n",
      "{'brand': 'acer', 'types': ' ASUS ZenBook Flip 13 ', 'links': '/r/pc/?_id=7c4369c133a018390814a2d149b73518350a955b&position=23&sub_product=discovery-brand-category&_exit=%2Fasus%2Fkomputer%2Flaptop%2F'}\n",
      "{'brand': 'acer', 'types': ' ASUS ZenBook Flip 13 Intel Core i3 512GB 8GB ', 'links': '/r/pc/?_id=7c4369c133a018390814a2d149b73518350a955b&position=24&sub_product=discovery-brand-category&_exit=%2Fasus%2Fkomputer%2Flaptop%2F'}\n",
      "{'brand': 'acer', 'types': ' ASUS ZenBook Flip 13 Intel Core i5 512GB 8GB ', 'links': '/r/pc/?_id=8553850dae1dd16b885edf318ac904b5dce88c22&position=25&sub_product=discovery-brand-category&_exit=%2Fasus%2Fkomputer%2Flaptop%2F'}\n",
      "{'brand': 'acer', 'types': ' ASUS ZenBook Duo 14 UX482 ', 'links': '/r/pc/?_id=c3210bdf68cbd28d8b54649513ddf0d6100def4d&position=26&sub_product=discovery-brand-category&_exit=%2Fasus%2Fkomputer%2Flaptop%2F'}\n",
      "{'brand': 'acer', 'types': ' ASUS ZenBook Pro Duo 15 OLED UX582 ', 'links': '/r/pc/?_id=4935cb95fc4bd33947f9638eb7cb71ba2c87c61a&position=27&sub_product=discovery-brand-category&_exit=%2Fasus%2Fkomputer%2Flaptop%2F'}\n",
      "{'brand': 'acer', 'types': ' ASUS ROG Strix SCAR 15 G532 Gaming Laptop ', 'links': '/r/pc/?_id=849e6a35e867e8200a7f4120e8432fb4a9dd911e&position=28&sub_product=discovery-brand-category&_exit=%2Fasus%2Fkomputer%2Flaptop%2F'}\n",
      "{'brand': 'acer', 'types': ' Asus TUF Gaming FX505DD ', 'links': '/r/pc/?_id=6c0a692f7ce2a60edbe7d4644c04fcecc2f289c2&position=29&sub_product=discovery-brand-category&_exit=%2Fasus%2Fkomputer%2Flaptop%2F'}\n",
      "{'brand': 'acer', 'types': ' ASUS TUF Gaming FX505DY ', 'links': '/r/pc/?_id=f4fd78bbb147b9e4baef8df692ab597b9e2e010b&position=30&sub_product=discovery-brand-category&_exit=%2Fasus%2Fkomputer%2Flaptop%2F'}\n",
      "{'brand': 'acer', 'types': ' ASUS VivoBook A442UR ', 'links': '/r/pc/?_id=7d731c80b57e49c368b121a06176b869d5f0b1f0&position=31&sub_product=discovery-brand-category&_exit=%2Fasus%2Fkomputer%2Flaptop%2F'}\n"
     ]
    }
   ],
   "source": [
    "first_soup = get_soup('https://iprice.co.id/asus/komputer/laptop/?sort=date_desc&page=1&so=7')\n",
    "total_pages = get_page_amounts(first_soup)\n",
    "get_type_and_links(laptops, first_soup, brands[0])\n"
   ]
  },
  {
   "cell_type": "code",
   "execution_count": 57,
   "metadata": {},
   "outputs": [
    {
     "name": "stderr",
     "output_type": "stream",
     "text": [
      "C:\\Users\\cilac\\AppData\\Local\\Temp/ipykernel_23068/3424265566.py:6: DeprecationWarning: executable_path has been deprecated, please pass in a Service object\n",
      "  driver = webdriver.Chrome(\n"
     ]
    }
   ],
   "source": [
    "first_soup = get_soup('https://iprice.co.id/asus/komputer/laptop/?sort=date_desc&page=1&so=7')\n",
    "total_pages = get_page_amounts(first_soup)\n",
    "\n",
    "brands = ['acer','asus','hp','lenovo','dell','msi','samsung']\n",
    "for i in range(1, total_pages + 1):\n",
    "    new_url = f'https://iprice.co.id/asus/komputer/laptop/?sort=date_desc&page={i}&so=7'\n",
    "    new_soup = get_soup(new_url)\n",
    "    get_type_and_links(laptops, new_soup, brands[0])"
   ]
  },
  {
   "cell_type": "code",
   "execution_count": 58,
   "metadata": {},
   "outputs": [
    {
     "data": {
      "text/html": [
       "<div>\n",
       "<style scoped>\n",
       "    .dataframe tbody tr th:only-of-type {\n",
       "        vertical-align: middle;\n",
       "    }\n",
       "\n",
       "    .dataframe tbody tr th {\n",
       "        vertical-align: top;\n",
       "    }\n",
       "\n",
       "    .dataframe thead th {\n",
       "        text-align: right;\n",
       "    }\n",
       "</style>\n",
       "<table border=\"1\" class=\"dataframe\">\n",
       "  <thead>\n",
       "    <tr style=\"text-align: right;\">\n",
       "      <th></th>\n",
       "      <th>brand</th>\n",
       "      <th>types</th>\n",
       "      <th>links</th>\n",
       "    </tr>\n",
       "  </thead>\n",
       "  <tbody>\n",
       "  </tbody>\n",
       "</table>\n",
       "</div>"
      ],
      "text/plain": [
       "Empty DataFrame\n",
       "Columns: [brand, types, links]\n",
       "Index: []"
      ]
     },
     "execution_count": 58,
     "metadata": {},
     "output_type": "execute_result"
    }
   ],
   "source": [
    "laptops"
   ]
  },
  {
   "cell_type": "code",
   "execution_count": 10,
   "metadata": {},
   "outputs": [
    {
     "name": "stderr",
     "output_type": "stream",
     "text": [
      "C:\\Users\\cilac\\AppData\\Local\\Temp/ipykernel_23068/3547074566.py:5: DeprecationWarning: executable_path has been deprecated, please pass in a Service object\n",
      "  driver = webdriver.Chrome(\n"
     ]
    },
    {
     "name": "stdout",
     "output_type": "stream",
     "text": [
      "86\n"
     ]
    }
   ],
   "source": [
    "soup = get_soup('https://iprice.co.id/asus/komputer/laptop/?sort=date_desc&page=1&so=7')\n",
    "print(get_page_amounts(soup))"
   ]
  },
  {
   "cell_type": "code",
   "execution_count": null,
   "metadata": {},
   "outputs": [],
   "source": []
  }
 ],
 "metadata": {
  "interpreter": {
   "hash": "5db2a8b9367106e423d58b885d74f2b2673b45a3f577c310b14f5bdd4a0e6131"
  },
  "kernelspec": {
   "display_name": "Python 3.10.1 64-bit",
   "language": "python",
   "name": "python3"
  },
  "language_info": {
   "codemirror_mode": {
    "name": "ipython",
    "version": 3
   },
   "file_extension": ".py",
   "mimetype": "text/x-python",
   "name": "python",
   "nbconvert_exporter": "python",
   "pygments_lexer": "ipython3",
   "version": "3.10.1"
  },
  "orig_nbformat": 4
 },
 "nbformat": 4,
 "nbformat_minor": 2
}
